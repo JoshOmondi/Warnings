{
 "cells": [
  {
   "cell_type": "code",
   "execution_count": null,
   "id": "652f65e9",
   "metadata": {
    "vscode": {
     "languageId": "plaintext"
    }
   },
   "outputs": [],
   "source": [
    "# Import necessary libraries\n",
    "from sklearn.linear_model import LinearRegression\n",
    "from sklearn.model_selection import train_test_split\n",
    "import pandas as pd\n",
    "\n",
    "# Load preprocessed data\n",
    "df = pd.read_csv(\"data/student+performance_preprocessed.csv\")\n",
    "\n",
    "# Define the target column\n",
    "target = \"G3\"\n",
    "\n",
    "# Prepare features and labels\n",
    "X = df.drop(columns=[target])\n",
    "y = df[target]\n",
    "\n",
    "# Split the data\n",
    "X_train, X_test, y_train, y_test = train_test_split(X, y, test_size=0.2, random_state=42)\n",
    "\n",
    "# Create and train the model\n",
    "model = LinearRegression()\n",
    "model.fit(X_train, y_train)\n",
    "\n",
    "# Print model training performance (R² score)\n",
    "score = model.score(X_test, y_test)\n",
    "print(f\"✅ Model R² score on test data: {score:.4f}\")\n",
    "\n",
    "# Save the trained model (optional)\n",
    "import joblib\n",
    "joblib.dump(model, 'model/linear_regression_model.pkl')\n"
   ]
  }
 ],
 "metadata": {
  "language_info": {
   "name": "python"
  }
 },
 "nbformat": 4,
 "nbformat_minor": 5
}
