{
 "cells": [
  {
   "cell_type": "code",
   "execution_count": null,
   "id": "3881cb7f",
   "metadata": {
    "vscode": {
     "languageId": "plaintext"
    }
   },
   "outputs": [],
   "source": [
    "# Import necessary libraries\n",
    "import joblib\n",
    "import pandas as pd\n",
    "from sklearn.metrics import mean_absolute_error, mean_squared_error, r2_score\n",
    "\n",
    "# Load the model\n",
    "model = joblib.load('model/linear_regression_model.pkl')\n",
    "\n",
    "# Load the data\n",
    "df = pd.read_csv(\"data/student+performance_preprocessed.csv\")\n",
    "\n",
    "# Prepare the features and target column\n",
    "X = df.drop(columns=[\"G3\"])\n",
    "y = df[\"G3\"]\n",
    "\n",
    "# Get model predictions\n",
    "y_pred = model.predict(X)\n",
    "\n",
    "# Evaluate the model\n",
    "mae = mean_absolute_error(y, y_pred)\n",
    "rmse = mean_squared_error(y, y_pred, squared=False)\n",
    "r2 = r2_score(y, y_pred)\n",
    "\n",
    "# Print evaluation metrics\n",
    "print(\"📊 Evaluation Metrics:\")\n",
    "print(f\"MAE: {mae:.2f}\")\n",
    "print(f\"RMSE: {rmse:.2f}\")\n",
    "print(f\"R²: {r2:.4f}\")\n",
    "\n",
    "# Add warning for poor performance\n",
    "if r2 < 0.5:\n",
    "    print(\"⚠️ Warning: The model performance is low (R² < 0.5). Consider improving the model.\")\n",
    "if rmse > 2:\n",
    "    print(\"⚠️ Warning: RMSE is high, which means the model might not be generalizing well.\")\n"
   ]
  }
 ],
 "metadata": {
  "language_info": {
   "name": "python"
  }
 },
 "nbformat": 4,
 "nbformat_minor": 5
}
