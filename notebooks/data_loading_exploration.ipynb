{
 "cells": [
  {
   "cell_type": "code",
   "execution_count": null,
   "id": "e972eb03",
   "metadata": {
    "vscode": {
     "languageId": "plaintext"
    }
   },
   "outputs": [],
   "source": [
    "# Import necessary libraries\n",
    "import pandas as pd\n",
    "import zipfile\n",
    "import os\n",
    "\n",
    "# Function to extract data from zip file if needed\n",
    "def extract_zip_if_needed(filepath):\n",
    "    if zipfile.is_zipfile(filepath):\n",
    "        extracted_folder = filepath.replace(\".zip\", \"\")\n",
    "        if not os.path.exists(extracted_folder):\n",
    "            with zipfile.ZipFile(filepath, 'r') as zip_ref:\n",
    "                zip_ref.extractall(extracted_folder)\n",
    "        return extracted_folder\n",
    "    return filepath\n",
    "\n",
    "# Load the dataset\n",
    "def load_data(filepath):\n",
    "    extracted_path = extract_zip_if_needed(filepath)\n",
    "    # Assuming the data is in a CSV file after extraction\n",
    "    for file_name in os.listdir(extracted_path):\n",
    "        if file_name.endswith(\".csv\"):\n",
    "            data_path = os.path.join(extracted_path, file_name)\n",
    "            df = pd.read_csv(data_path)\n",
    "            return df\n",
    "    raise FileNotFoundError(\"No CSV file found in the ZIP archive.\")\n",
    "\n",
    "# Load and display data\n",
    "df = load_data(\"data/student+performance.zip\")\n",
    "print(f\"✅ Columns found in dataset: {df.columns.tolist()}\")\n",
    "\n",
    "# Check for missing data\n",
    "print(\"❓ Checking for missing data:\")\n",
    "print(df.isnull().sum())\n",
    "\n",
    "# Display basic statistics of the data\n",
    "print(\"📊 Basic Statistics:\")\n",
    "print(df.describe())\n"
   ]
  }
 ],
 "metadata": {
  "language_info": {
   "name": "python"
  }
 },
 "nbformat": 4,
 "nbformat_minor": 5
}
